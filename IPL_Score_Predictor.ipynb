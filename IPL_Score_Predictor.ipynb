{
 "cells": [
  {
   "cell_type": "code",
   "execution_count": 2,
   "id": "beacb8f1",
   "metadata": {},
   "outputs": [],
   "source": [
    "import pandas as pd\n",
    "import numpy as np\n",
    "import os\n",
    "import pickle\n",
    "\n",
    "from tqdm import tqdm\n",
    "from yaml import safe_load"
   ]
  },
  {
   "cell_type": "code",
   "execution_count": 7,
   "id": "41b75739",
   "metadata": {},
   "outputs": [],
   "source": [
    "# getting a list of filenames along with its path\n",
    "filenames = []\n",
    "\n",
    "for i in os.listdir(r'C:\\Users\\shubh\\Desktop\\ipl'):\n",
    "    filenames.append(os.path.join(r'C:\\Users\\shubh\\Desktop\\ipl', i))"
   ]
  },
  {
   "cell_type": "code",
   "execution_count": 9,
   "id": "5576da8b",
   "metadata": {},
   "outputs": [
    {
     "name": "stderr",
     "output_type": "stream",
     "text": [
      "100%|████████████████████████████████████████████████████████████████████████████████| 816/816 [02:40<00:00,  5.07it/s]\n"
     ]
    }
   ],
   "source": [
    "# extracting each file and putting it in dataframe\n",
    "final_df_list = []\n",
    "counter = 1\n",
    "\n",
    "for i in tqdm(filenames):\n",
    "    with open(i, 'r') as f:\n",
    "        df = pd.json_normalize(safe_load(f))\n",
    "        df['match_id'] = counter\n",
    "        final_df_list.append(df)\n",
    "        counter += 1\n",
    "        \n",
    "final_df = pd.concat(final_df_list, ignore_index = True)"
   ]
  },
  {
   "cell_type": "code",
   "execution_count": 20,
   "id": "c9702feb",
   "metadata": {},
   "outputs": [
    {
     "data": {
      "text/plain": [
       "Index(['innings', 'meta.data_version', 'meta.created', 'meta.revision',\n",
       "       'info.city', 'info.competition', 'info.dates', 'info.gender',\n",
       "       'info.match_type', 'info.outcome.by.runs', 'info.outcome.winner',\n",
       "       'info.overs', 'info.player_of_match', 'info.teams',\n",
       "       'info.toss.decision', 'info.toss.winner', 'info.umpires', 'info.venue',\n",
       "       'match_id', 'info.outcome.by.wickets', 'info.outcome.eliminator',\n",
       "       'info.outcome.result', 'info.outcome.method', 'info.neutral_venue'],\n",
       "      dtype='object')"
      ]
     },
     "execution_count": 20,
     "metadata": {},
     "output_type": "execute_result"
    }
   ],
   "source": [
    "final_df.columns"
   ]
  },
  {
   "cell_type": "code",
   "execution_count": 13,
   "id": "a905b5c1",
   "metadata": {},
   "outputs": [],
   "source": [
    "pickle.dump(final_df, open('raw_ipl.pkl', 'wb'))"
   ]
  },
  {
   "cell_type": "code",
   "execution_count": 38,
   "id": "1d4e7690",
   "metadata": {},
   "outputs": [],
   "source": [
    "raw_df = pickle.load(open('raw_ipl.pkl', 'rb'))"
   ]
  },
  {
   "cell_type": "code",
   "execution_count": 43,
   "id": "259ba8bf",
   "metadata": {},
   "outputs": [],
   "source": [
    "raw_df = raw_df[['innings', 'info.city', 'info.teams', 'info.venue', 'match_id']]"
   ]
  },
  {
   "cell_type": "code",
   "execution_count": 44,
   "id": "f41975d8",
   "metadata": {},
   "outputs": [
    {
     "name": "stdout",
     "output_type": "stream",
     "text": [
      "<class 'pandas.core.frame.DataFrame'>\n",
      "RangeIndex: 816 entries, 0 to 815\n",
      "Data columns (total 5 columns):\n",
      " #   Column      Non-Null Count  Dtype \n",
      "---  ------      --------------  ----- \n",
      " 0   innings     816 non-null    object\n",
      " 1   info.city   765 non-null    object\n",
      " 2   info.teams  816 non-null    object\n",
      " 3   info.venue  816 non-null    object\n",
      " 4   match_id    816 non-null    int64 \n",
      "dtypes: int64(1), object(4)\n",
      "memory usage: 32.0+ KB\n"
     ]
    }
   ],
   "source": [
    "raw_df.info()"
   ]
  },
  {
   "cell_type": "code",
   "execution_count": 46,
   "id": "653fd81a",
   "metadata": {},
   "outputs": [],
   "source": [
    "# extracting data from 'innings' column and creating new dataframe\n",
    "delivery_df_list = []\n",
    "count = 1\n",
    "\n",
    "for index, row in raw_df.iterrows():\n",
    "    if count in [75,108,150,180,268,360,443,458,584,748,982,1052,1111,1226,1345]:\n",
    "        count+=1\n",
    "        continue\n",
    "    count+=1\n",
    "    ball_of_match = []\n",
    "    batsman = []\n",
    "    bowler = []\n",
    "    runs = []\n",
    "    player_of_dismissed = []\n",
    "    teams = []\n",
    "    batting_team = []\n",
    "    match_id = []\n",
    "    city = []\n",
    "    venue = []\n",
    "    for ball in row['innings'][0]['1st innings']['deliveries']:\n",
    "        for key in ball.keys():\n",
    "            match_id.append(count)\n",
    "            batting_team.append(row['innings'][0]['1st innings']['team'])\n",
    "            teams.append(row['info.teams'])\n",
    "            ball_of_match.append(key)\n",
    "            batsman.append(ball[key]['batsman'])\n",
    "            bowler.append(ball[key]['bowler'])\n",
    "            runs.append(ball[key]['runs']['total'])\n",
    "            city.append(row['info.city'])\n",
    "            venue.append(row['info.venue'])\n",
    "            try:\n",
    "                player_of_dismissed.append(ball[key]['wicket']['player_out'])\n",
    "            except:\n",
    "                player_of_dismissed.append('0')    \n",
    "            \n",
    "    loop_df = pd.DataFrame({\n",
    "            'match_id':match_id,\n",
    "            'teams':teams,\n",
    "            'batting_team':batting_team,\n",
    "            'ball':ball_of_match,\n",
    "            'runs':runs,\n",
    "            'player_dismissed':player_of_dismissed,\n",
    "            'city':city,\n",
    "            'venue':venue\n",
    "    })\n",
    "\n",
    "    # Append loop_df to delivery_df_list\n",
    "    delivery_df_list.append(loop_df)\n",
    "\n",
    "# Concatenate all DataFrames in delivery_df_list into a single DataFrame\n",
    "df = pd.concat(delivery_df_list, ignore_index=True)\n"
   ]
  },
  {
   "cell_type": "code",
   "execution_count": 50,
   "id": "31e32fcf",
   "metadata": {},
   "outputs": [],
   "source": [
    "pickle.dump(df, open('IPL.pkl', 'wb'))"
   ]
  },
  {
   "cell_type": "code",
   "execution_count": 180,
   "id": "1d666470",
   "metadata": {},
   "outputs": [],
   "source": [
    "df = pickle.load(open('IPL.pkl', 'rb'))"
   ]
  },
  {
   "cell_type": "code",
   "execution_count": 181,
   "id": "ba843dbc",
   "metadata": {},
   "outputs": [],
   "source": [
    "def bowling_team_extractor(row):\n",
    "    for i in row['teams']:\n",
    "        if i != row['batting_team']:\n",
    "            return i"
   ]
  },
  {
   "cell_type": "code",
   "execution_count": 182,
   "id": "e9fc6cdd",
   "metadata": {},
   "outputs": [],
   "source": [
    "df['bowling_team'] = df.apply(bowling_team_extractor, axis = 1)"
   ]
  },
  {
   "cell_type": "code",
   "execution_count": 183,
   "id": "ae6c224d",
   "metadata": {},
   "outputs": [],
   "source": [
    "eligible_teams = ['Mumbai Indians', 'Kings XI Punjab', 'Royal Challengers Bangalore', 'Chennai Super Kings', 'Kolkata Knight Riders', 'Rajasthan Royals', 'Sunrisers Hyderabad', 'Delhi Capitals']\n",
    "\n",
    "df = df[df['batting_team'].isin(eligible_teams) & df['bowling_team'].isin(eligible_teams)]"
   ]
  },
  {
   "cell_type": "code",
   "execution_count": 184,
   "id": "ea0c93ca",
   "metadata": {},
   "outputs": [],
   "source": [
    "df.loc[df['city'].isnull(), 'city'] = df.loc[df['city'].isnull(), 'venue'].apply(lambda x: x.split(' ')[0])"
   ]
  },
  {
   "cell_type": "code",
   "execution_count": 185,
   "id": "c578c54d",
   "metadata": {},
   "outputs": [],
   "source": [
    "df.drop(['venue', 'teams'], axis = 1, inplace = True)"
   ]
  },
  {
   "cell_type": "code",
   "execution_count": 186,
   "id": "1d1e3059",
   "metadata": {},
   "outputs": [],
   "source": [
    "df = df.groupby('match_id')['runs'].sum().reset_index().merge(df, on = 'match_id')"
   ]
  },
  {
   "cell_type": "code",
   "execution_count": 187,
   "id": "5ad8c43c",
   "metadata": {},
   "outputs": [],
   "source": [
    "df.rename(columns = {'runs_x' : 'total_runs', 'runs_y' : 'runs'}, inplace = True)"
   ]
  },
  {
   "cell_type": "code",
   "execution_count": 188,
   "id": "10ece022",
   "metadata": {},
   "outputs": [],
   "source": [
    "df['current_score'] = df.groupby('match_id')['runs'].cumsum()"
   ]
  },
  {
   "cell_type": "code",
   "execution_count": 189,
   "id": "1c0a528f",
   "metadata": {},
   "outputs": [],
   "source": [
    "df.loc[df['player_dismissed'] != '0', 'player_dismissed'] = 1\n",
    "df.loc[df['player_dismissed'] == '0', 'player_dismissed'] = 0"
   ]
  },
  {
   "cell_type": "code",
   "execution_count": 190,
   "id": "8e5a36a2",
   "metadata": {},
   "outputs": [
    {
     "name": "stdout",
     "output_type": "stream",
     "text": [
      "<class 'pandas.core.frame.DataFrame'>\n",
      "RangeIndex: 60426 entries, 0 to 60425\n",
      "Data columns (total 9 columns):\n",
      " #   Column            Non-Null Count  Dtype  \n",
      "---  ------            --------------  -----  \n",
      " 0   match_id          60426 non-null  int64  \n",
      " 1   total_runs        60426 non-null  int64  \n",
      " 2   batting_team      60426 non-null  object \n",
      " 3   ball              60426 non-null  float64\n",
      " 4   runs              60426 non-null  int64  \n",
      " 5   player_dismissed  60426 non-null  object \n",
      " 6   city              60426 non-null  object \n",
      " 7   bowling_team      60426 non-null  object \n",
      " 8   current_score     60426 non-null  int64  \n",
      "dtypes: float64(1), int64(4), object(4)\n",
      "memory usage: 4.1+ MB\n"
     ]
    }
   ],
   "source": [
    "df.info()"
   ]
  },
  {
   "cell_type": "code",
   "execution_count": 191,
   "id": "96a33a0d",
   "metadata": {},
   "outputs": [],
   "source": [
    "df['player_dismissed'] = df['player_dismissed'].astype(int)"
   ]
  },
  {
   "cell_type": "code",
   "execution_count": 192,
   "id": "ac1c7cbd",
   "metadata": {},
   "outputs": [],
   "source": [
    "df['wickets_left'] = 10 - (df.groupby('match_id')['player_dismissed'].cumsum())"
   ]
  },
  {
   "cell_type": "code",
   "execution_count": 193,
   "id": "cd731536",
   "metadata": {},
   "outputs": [
    {
     "data": {
      "text/html": [
       "<div>\n",
       "<style scoped>\n",
       "    .dataframe tbody tr th:only-of-type {\n",
       "        vertical-align: middle;\n",
       "    }\n",
       "\n",
       "    .dataframe tbody tr th {\n",
       "        vertical-align: top;\n",
       "    }\n",
       "\n",
       "    .dataframe thead th {\n",
       "        text-align: right;\n",
       "    }\n",
       "</style>\n",
       "<table border=\"1\" class=\"dataframe\">\n",
       "  <thead>\n",
       "    <tr style=\"text-align: right;\">\n",
       "      <th></th>\n",
       "      <th>match_id</th>\n",
       "      <th>total_runs</th>\n",
       "      <th>batting_team</th>\n",
       "      <th>ball</th>\n",
       "      <th>runs</th>\n",
       "      <th>player_dismissed</th>\n",
       "      <th>city</th>\n",
       "      <th>bowling_team</th>\n",
       "      <th>current_score</th>\n",
       "      <th>wickets_left</th>\n",
       "    </tr>\n",
       "  </thead>\n",
       "  <tbody>\n",
       "    <tr>\n",
       "      <th>0</th>\n",
       "      <td>2</td>\n",
       "      <td>207</td>\n",
       "      <td>Sunrisers Hyderabad</td>\n",
       "      <td>0.1</td>\n",
       "      <td>0</td>\n",
       "      <td>0</td>\n",
       "      <td>Hyderabad</td>\n",
       "      <td>Royal Challengers Bangalore</td>\n",
       "      <td>0</td>\n",
       "      <td>10</td>\n",
       "    </tr>\n",
       "    <tr>\n",
       "      <th>1</th>\n",
       "      <td>2</td>\n",
       "      <td>207</td>\n",
       "      <td>Sunrisers Hyderabad</td>\n",
       "      <td>0.2</td>\n",
       "      <td>0</td>\n",
       "      <td>0</td>\n",
       "      <td>Hyderabad</td>\n",
       "      <td>Royal Challengers Bangalore</td>\n",
       "      <td>0</td>\n",
       "      <td>10</td>\n",
       "    </tr>\n",
       "    <tr>\n",
       "      <th>2</th>\n",
       "      <td>2</td>\n",
       "      <td>207</td>\n",
       "      <td>Sunrisers Hyderabad</td>\n",
       "      <td>0.3</td>\n",
       "      <td>4</td>\n",
       "      <td>0</td>\n",
       "      <td>Hyderabad</td>\n",
       "      <td>Royal Challengers Bangalore</td>\n",
       "      <td>4</td>\n",
       "      <td>10</td>\n",
       "    </tr>\n",
       "    <tr>\n",
       "      <th>3</th>\n",
       "      <td>2</td>\n",
       "      <td>207</td>\n",
       "      <td>Sunrisers Hyderabad</td>\n",
       "      <td>0.4</td>\n",
       "      <td>0</td>\n",
       "      <td>0</td>\n",
       "      <td>Hyderabad</td>\n",
       "      <td>Royal Challengers Bangalore</td>\n",
       "      <td>4</td>\n",
       "      <td>10</td>\n",
       "    </tr>\n",
       "    <tr>\n",
       "      <th>4</th>\n",
       "      <td>2</td>\n",
       "      <td>207</td>\n",
       "      <td>Sunrisers Hyderabad</td>\n",
       "      <td>0.5</td>\n",
       "      <td>2</td>\n",
       "      <td>0</td>\n",
       "      <td>Hyderabad</td>\n",
       "      <td>Royal Challengers Bangalore</td>\n",
       "      <td>6</td>\n",
       "      <td>10</td>\n",
       "    </tr>\n",
       "  </tbody>\n",
       "</table>\n",
       "</div>"
      ],
      "text/plain": [
       "   match_id  total_runs         batting_team  ball  runs  player_dismissed  \\\n",
       "0         2         207  Sunrisers Hyderabad   0.1     0                 0   \n",
       "1         2         207  Sunrisers Hyderabad   0.2     0                 0   \n",
       "2         2         207  Sunrisers Hyderabad   0.3     4                 0   \n",
       "3         2         207  Sunrisers Hyderabad   0.4     0                 0   \n",
       "4         2         207  Sunrisers Hyderabad   0.5     2                 0   \n",
       "\n",
       "        city                 bowling_team  current_score  wickets_left  \n",
       "0  Hyderabad  Royal Challengers Bangalore              0            10  \n",
       "1  Hyderabad  Royal Challengers Bangalore              0            10  \n",
       "2  Hyderabad  Royal Challengers Bangalore              4            10  \n",
       "3  Hyderabad  Royal Challengers Bangalore              4            10  \n",
       "4  Hyderabad  Royal Challengers Bangalore              6            10  "
      ]
     },
     "execution_count": 193,
     "metadata": {},
     "output_type": "execute_result"
    }
   ],
   "source": [
    "df[df['match_id'] == 2].head()"
   ]
  },
  {
   "cell_type": "code",
   "execution_count": 194,
   "id": "4e1b68de",
   "metadata": {},
   "outputs": [],
   "source": [
    "df['over_no'] = df['ball'].apply(lambda x: int(str(x).split('.')[0]))\n",
    "df['ball_no'] = df['ball'].apply(lambda x: int(str(x).split('.')[1]))"
   ]
  },
  {
   "cell_type": "code",
   "execution_count": 195,
   "id": "8458e646",
   "metadata": {},
   "outputs": [],
   "source": [
    "df['balls_left'] = 120 - ((df['over_no'] * 6) + (df['ball_no']))"
   ]
  },
  {
   "cell_type": "code",
   "execution_count": 197,
   "id": "34ed7aed",
   "metadata": {},
   "outputs": [],
   "source": [
    "df.loc[:, 'crr'] = round((df['current_score'] / ((df['over_no'] * 6) + df['ball_no'])) * 6, 2)"
   ]
  },
  {
   "cell_type": "code",
   "execution_count": 201,
   "id": "1c803803",
   "metadata": {},
   "outputs": [],
   "source": [
    "df.loc[df['balls_left'] < 0, 'balls_left'] = 0"
   ]
  },
  {
   "cell_type": "code",
   "execution_count": 218,
   "id": "688e339b",
   "metadata": {},
   "outputs": [],
   "source": [
    "df['last_five'] = df.groupby('match_id')['runs'].rolling(window = 30).sum().values"
   ]
  },
  {
   "cell_type": "code",
   "execution_count": 222,
   "id": "eb7f44c3",
   "metadata": {
    "scrolled": false
   },
   "outputs": [
    {
     "data": {
      "text/plain": [
       "Index(['match_id', 'total_runs', 'batting_team', 'ball', 'runs',\n",
       "       'player_dismissed', 'city', 'bowling_team', 'current_score',\n",
       "       'wickets_left', 'over_no', 'ball_no', 'balls_left', 'crr', 'last_five'],\n",
       "      dtype='object')"
      ]
     },
     "execution_count": 222,
     "metadata": {},
     "output_type": "execute_result"
    }
   ],
   "source": [
    "df.columns"
   ]
  },
  {
   "cell_type": "code",
   "execution_count": 223,
   "id": "939ab22f",
   "metadata": {},
   "outputs": [],
   "source": [
    "df.drop(['ball', 'runs', 'player_dismissed', 'over_no', 'ball_no', 'match_id'], axis = 1, inplace = True)"
   ]
  },
  {
   "cell_type": "code",
   "execution_count": 225,
   "id": "0660fa90",
   "metadata": {},
   "outputs": [],
   "source": [
    "df.dropna(inplace = True)"
   ]
  },
  {
   "cell_type": "code",
   "execution_count": 252,
   "id": "2d414a18",
   "metadata": {},
   "outputs": [],
   "source": [
    "df = df.sample(df.shape[0])"
   ]
  },
  {
   "cell_type": "code",
   "execution_count": 254,
   "id": "e3140469",
   "metadata": {},
   "outputs": [],
   "source": [
    "from sklearn.model_selection import train_test_split, cross_val_score\n",
    "from sklearn.compose import ColumnTransformer\n",
    "from sklearn.preprocessing import OneHotEncoder, StandardScaler\n",
    "from sklearn.pipeline import Pipeline\n",
    "from sklearn.metrics import r2_score,mean_absolute_error\n",
    "\n",
    "from sklearn.linear_model import LinearRegression\n",
    "from xgboost import XGBRegressor\n",
    "from sklearn.ensemble import RandomForestRegressor"
   ]
  },
  {
   "cell_type": "code",
   "execution_count": 255,
   "id": "c5d3ed4d",
   "metadata": {},
   "outputs": [],
   "source": [
    "X = df.drop('total_runs', axis = 1)\n",
    "y = df['total_runs']"
   ]
  },
  {
   "cell_type": "code",
   "execution_count": 264,
   "id": "d6d54be9",
   "metadata": {},
   "outputs": [],
   "source": [
    "X_train, X_test, y_train, y_test = train_test_split(X, y, test_size = 0.2, random_state = 42)"
   ]
  },
  {
   "cell_type": "code",
   "execution_count": 256,
   "id": "3fcd6c15",
   "metadata": {},
   "outputs": [],
   "source": [
    "ct = ColumnTransformer([\n",
    "    ('ohe', OneHotEncoder(sparse_output = False, drop = 'first'), ['batting_team', 'city', 'bowling_team'])\n",
    "], remainder = 'passthrough')"
   ]
  },
  {
   "cell_type": "code",
   "execution_count": 257,
   "id": "cfe36e1a",
   "metadata": {},
   "outputs": [],
   "source": [
    "pipe_lr = Pipeline([\n",
    "    ('ct', ct),\n",
    "    ('ss', StandardScaler()),\n",
    "    ('lr', LinearRegression())\n",
    "])"
   ]
  },
  {
   "cell_type": "code",
   "execution_count": 260,
   "id": "5875093c",
   "metadata": {
    "scrolled": true
   },
   "outputs": [],
   "source": [
    "pipe_rfr = Pipeline([\n",
    "    ('ct', ct),\n",
    "    ('ss', StandardScaler()),\n",
    "    ('rfr', RandomForestRegressor())\n",
    "])"
   ]
  },
  {
   "cell_type": "code",
   "execution_count": 261,
   "id": "4c0c38db",
   "metadata": {},
   "outputs": [],
   "source": [
    "pipe_xgbr = Pipeline([\n",
    "    ('ct', ct),\n",
    "    ('ss', StandardScaler()),\n",
    "    ('xgbr', XGBRegressor(n_estimators=1000,learning_rate=0.2,max_depth=12,random_state=1))\n",
    "])"
   ]
  },
  {
   "cell_type": "code",
   "execution_count": 267,
   "id": "6349bd6f",
   "metadata": {
    "scrolled": false
   },
   "outputs": [
    {
     "name": "stderr",
     "output_type": "stream",
     "text": [
      "[Parallel(n_jobs=-1)]: Using backend LokyBackend with 4 concurrent workers.\n",
      "[Parallel(n_jobs=-1)]: Done  10 out of  10 | elapsed:  3.2min finished\n"
     ]
    },
    {
     "data": {
      "text/plain": [
       "0.9771244905480707"
      ]
     },
     "execution_count": 267,
     "metadata": {},
     "output_type": "execute_result"
    }
   ],
   "source": [
    "np.mean(cross_val_score(pipe_xgbr, X, y, cv=10, scoring='r2', n_jobs=-1, verbose=2, error_score='raise'))\n"
   ]
  },
  {
   "cell_type": "code",
   "execution_count": 268,
   "id": "9e800e12",
   "metadata": {},
   "outputs": [
    {
     "data": {
      "text/html": [
       "<style>#sk-container-id-2 {color: black;}#sk-container-id-2 pre{padding: 0;}#sk-container-id-2 div.sk-toggleable {background-color: white;}#sk-container-id-2 label.sk-toggleable__label {cursor: pointer;display: block;width: 100%;margin-bottom: 0;padding: 0.3em;box-sizing: border-box;text-align: center;}#sk-container-id-2 label.sk-toggleable__label-arrow:before {content: \"▸\";float: left;margin-right: 0.25em;color: #696969;}#sk-container-id-2 label.sk-toggleable__label-arrow:hover:before {color: black;}#sk-container-id-2 div.sk-estimator:hover label.sk-toggleable__label-arrow:before {color: black;}#sk-container-id-2 div.sk-toggleable__content {max-height: 0;max-width: 0;overflow: hidden;text-align: left;background-color: #f0f8ff;}#sk-container-id-2 div.sk-toggleable__content pre {margin: 0.2em;color: black;border-radius: 0.25em;background-color: #f0f8ff;}#sk-container-id-2 input.sk-toggleable__control:checked~div.sk-toggleable__content {max-height: 200px;max-width: 100%;overflow: auto;}#sk-container-id-2 input.sk-toggleable__control:checked~label.sk-toggleable__label-arrow:before {content: \"▾\";}#sk-container-id-2 div.sk-estimator input.sk-toggleable__control:checked~label.sk-toggleable__label {background-color: #d4ebff;}#sk-container-id-2 div.sk-label input.sk-toggleable__control:checked~label.sk-toggleable__label {background-color: #d4ebff;}#sk-container-id-2 input.sk-hidden--visually {border: 0;clip: rect(1px 1px 1px 1px);clip: rect(1px, 1px, 1px, 1px);height: 1px;margin: -1px;overflow: hidden;padding: 0;position: absolute;width: 1px;}#sk-container-id-2 div.sk-estimator {font-family: monospace;background-color: #f0f8ff;border: 1px dotted black;border-radius: 0.25em;box-sizing: border-box;margin-bottom: 0.5em;}#sk-container-id-2 div.sk-estimator:hover {background-color: #d4ebff;}#sk-container-id-2 div.sk-parallel-item::after {content: \"\";width: 100%;border-bottom: 1px solid gray;flex-grow: 1;}#sk-container-id-2 div.sk-label:hover label.sk-toggleable__label {background-color: #d4ebff;}#sk-container-id-2 div.sk-serial::before {content: \"\";position: absolute;border-left: 1px solid gray;box-sizing: border-box;top: 0;bottom: 0;left: 50%;z-index: 0;}#sk-container-id-2 div.sk-serial {display: flex;flex-direction: column;align-items: center;background-color: white;padding-right: 0.2em;padding-left: 0.2em;position: relative;}#sk-container-id-2 div.sk-item {position: relative;z-index: 1;}#sk-container-id-2 div.sk-parallel {display: flex;align-items: stretch;justify-content: center;background-color: white;position: relative;}#sk-container-id-2 div.sk-item::before, #sk-container-id-2 div.sk-parallel-item::before {content: \"\";position: absolute;border-left: 1px solid gray;box-sizing: border-box;top: 0;bottom: 0;left: 50%;z-index: -1;}#sk-container-id-2 div.sk-parallel-item {display: flex;flex-direction: column;z-index: 1;position: relative;background-color: white;}#sk-container-id-2 div.sk-parallel-item:first-child::after {align-self: flex-end;width: 50%;}#sk-container-id-2 div.sk-parallel-item:last-child::after {align-self: flex-start;width: 50%;}#sk-container-id-2 div.sk-parallel-item:only-child::after {width: 0;}#sk-container-id-2 div.sk-dashed-wrapped {border: 1px dashed gray;margin: 0 0.4em 0.5em 0.4em;box-sizing: border-box;padding-bottom: 0.4em;background-color: white;}#sk-container-id-2 div.sk-label label {font-family: monospace;font-weight: bold;display: inline-block;line-height: 1.2em;}#sk-container-id-2 div.sk-label-container {text-align: center;}#sk-container-id-2 div.sk-container {/* jupyter's `normalize.less` sets `[hidden] { display: none; }` but bootstrap.min.css set `[hidden] { display: none !important; }` so we also need the `!important` here to be able to override the default hidden behavior on the sphinx rendered scikit-learn.org. See: https://github.com/scikit-learn/scikit-learn/issues/21755 */display: inline-block !important;position: relative;}#sk-container-id-2 div.sk-text-repr-fallback {display: none;}</style><div id=\"sk-container-id-2\" class=\"sk-top-container\"><div class=\"sk-text-repr-fallback\"><pre>Pipeline(steps=[(&#x27;ct&#x27;,\n",
       "                 ColumnTransformer(remainder=&#x27;passthrough&#x27;,\n",
       "                                   transformers=[(&#x27;ohe&#x27;,\n",
       "                                                  OneHotEncoder(drop=&#x27;first&#x27;,\n",
       "                                                                sparse_output=False),\n",
       "                                                  [&#x27;batting_team&#x27;, &#x27;city&#x27;,\n",
       "                                                   &#x27;bowling_team&#x27;])])),\n",
       "                (&#x27;ss&#x27;, StandardScaler()),\n",
       "                (&#x27;xgbr&#x27;,\n",
       "                 XGBRegressor(base_score=None, booster=None, callbacks=None,\n",
       "                              colsample_bylevel=None, colsample_bynode=None,\n",
       "                              colsample_bytree=None, device=None,\n",
       "                              early_...\n",
       "                              feature_types=None, gamma=None, grow_policy=None,\n",
       "                              importance_type=None,\n",
       "                              interaction_constraints=None, learning_rate=0.2,\n",
       "                              max_bin=None, max_cat_threshold=None,\n",
       "                              max_cat_to_onehot=None, max_delta_step=None,\n",
       "                              max_depth=12, max_leaves=None,\n",
       "                              min_child_weight=None, missing=nan,\n",
       "                              monotone_constraints=None, multi_strategy=None,\n",
       "                              n_estimators=1000, n_jobs=None,\n",
       "                              num_parallel_tree=None, random_state=1, ...))])</pre><b>In a Jupyter environment, please rerun this cell to show the HTML representation or trust the notebook. <br />On GitHub, the HTML representation is unable to render, please try loading this page with nbviewer.org.</b></div><div class=\"sk-container\" hidden><div class=\"sk-item sk-dashed-wrapped\"><div class=\"sk-label-container\"><div class=\"sk-label sk-toggleable\"><input class=\"sk-toggleable__control sk-hidden--visually\" id=\"sk-estimator-id-9\" type=\"checkbox\" ><label for=\"sk-estimator-id-9\" class=\"sk-toggleable__label sk-toggleable__label-arrow\">Pipeline</label><div class=\"sk-toggleable__content\"><pre>Pipeline(steps=[(&#x27;ct&#x27;,\n",
       "                 ColumnTransformer(remainder=&#x27;passthrough&#x27;,\n",
       "                                   transformers=[(&#x27;ohe&#x27;,\n",
       "                                                  OneHotEncoder(drop=&#x27;first&#x27;,\n",
       "                                                                sparse_output=False),\n",
       "                                                  [&#x27;batting_team&#x27;, &#x27;city&#x27;,\n",
       "                                                   &#x27;bowling_team&#x27;])])),\n",
       "                (&#x27;ss&#x27;, StandardScaler()),\n",
       "                (&#x27;xgbr&#x27;,\n",
       "                 XGBRegressor(base_score=None, booster=None, callbacks=None,\n",
       "                              colsample_bylevel=None, colsample_bynode=None,\n",
       "                              colsample_bytree=None, device=None,\n",
       "                              early_...\n",
       "                              feature_types=None, gamma=None, grow_policy=None,\n",
       "                              importance_type=None,\n",
       "                              interaction_constraints=None, learning_rate=0.2,\n",
       "                              max_bin=None, max_cat_threshold=None,\n",
       "                              max_cat_to_onehot=None, max_delta_step=None,\n",
       "                              max_depth=12, max_leaves=None,\n",
       "                              min_child_weight=None, missing=nan,\n",
       "                              monotone_constraints=None, multi_strategy=None,\n",
       "                              n_estimators=1000, n_jobs=None,\n",
       "                              num_parallel_tree=None, random_state=1, ...))])</pre></div></div></div><div class=\"sk-serial\"><div class=\"sk-item sk-dashed-wrapped\"><div class=\"sk-label-container\"><div class=\"sk-label sk-toggleable\"><input class=\"sk-toggleable__control sk-hidden--visually\" id=\"sk-estimator-id-10\" type=\"checkbox\" ><label for=\"sk-estimator-id-10\" class=\"sk-toggleable__label sk-toggleable__label-arrow\">ct: ColumnTransformer</label><div class=\"sk-toggleable__content\"><pre>ColumnTransformer(remainder=&#x27;passthrough&#x27;,\n",
       "                  transformers=[(&#x27;ohe&#x27;,\n",
       "                                 OneHotEncoder(drop=&#x27;first&#x27;,\n",
       "                                               sparse_output=False),\n",
       "                                 [&#x27;batting_team&#x27;, &#x27;city&#x27;, &#x27;bowling_team&#x27;])])</pre></div></div></div><div class=\"sk-parallel\"><div class=\"sk-parallel-item\"><div class=\"sk-item\"><div class=\"sk-label-container\"><div class=\"sk-label sk-toggleable\"><input class=\"sk-toggleable__control sk-hidden--visually\" id=\"sk-estimator-id-11\" type=\"checkbox\" ><label for=\"sk-estimator-id-11\" class=\"sk-toggleable__label sk-toggleable__label-arrow\">ohe</label><div class=\"sk-toggleable__content\"><pre>[&#x27;batting_team&#x27;, &#x27;city&#x27;, &#x27;bowling_team&#x27;]</pre></div></div></div><div class=\"sk-serial\"><div class=\"sk-item\"><div class=\"sk-estimator sk-toggleable\"><input class=\"sk-toggleable__control sk-hidden--visually\" id=\"sk-estimator-id-12\" type=\"checkbox\" ><label for=\"sk-estimator-id-12\" class=\"sk-toggleable__label sk-toggleable__label-arrow\">OneHotEncoder</label><div class=\"sk-toggleable__content\"><pre>OneHotEncoder(drop=&#x27;first&#x27;, sparse_output=False)</pre></div></div></div></div></div></div><div class=\"sk-parallel-item\"><div class=\"sk-item\"><div class=\"sk-label-container\"><div class=\"sk-label sk-toggleable\"><input class=\"sk-toggleable__control sk-hidden--visually\" id=\"sk-estimator-id-13\" type=\"checkbox\" ><label for=\"sk-estimator-id-13\" class=\"sk-toggleable__label sk-toggleable__label-arrow\">remainder</label><div class=\"sk-toggleable__content\"><pre>[&#x27;current_score&#x27;, &#x27;wickets_left&#x27;, &#x27;balls_left&#x27;, &#x27;crr&#x27;, &#x27;last_five&#x27;]</pre></div></div></div><div class=\"sk-serial\"><div class=\"sk-item\"><div class=\"sk-estimator sk-toggleable\"><input class=\"sk-toggleable__control sk-hidden--visually\" id=\"sk-estimator-id-14\" type=\"checkbox\" ><label for=\"sk-estimator-id-14\" class=\"sk-toggleable__label sk-toggleable__label-arrow\">passthrough</label><div class=\"sk-toggleable__content\"><pre>passthrough</pre></div></div></div></div></div></div></div></div><div class=\"sk-item\"><div class=\"sk-estimator sk-toggleable\"><input class=\"sk-toggleable__control sk-hidden--visually\" id=\"sk-estimator-id-15\" type=\"checkbox\" ><label for=\"sk-estimator-id-15\" class=\"sk-toggleable__label sk-toggleable__label-arrow\">StandardScaler</label><div class=\"sk-toggleable__content\"><pre>StandardScaler()</pre></div></div></div><div class=\"sk-item\"><div class=\"sk-estimator sk-toggleable\"><input class=\"sk-toggleable__control sk-hidden--visually\" id=\"sk-estimator-id-16\" type=\"checkbox\" ><label for=\"sk-estimator-id-16\" class=\"sk-toggleable__label sk-toggleable__label-arrow\">XGBRegressor</label><div class=\"sk-toggleable__content\"><pre>XGBRegressor(base_score=None, booster=None, callbacks=None,\n",
       "             colsample_bylevel=None, colsample_bynode=None,\n",
       "             colsample_bytree=None, device=None, early_stopping_rounds=None,\n",
       "             enable_categorical=False, eval_metric=None, feature_types=None,\n",
       "             gamma=None, grow_policy=None, importance_type=None,\n",
       "             interaction_constraints=None, learning_rate=0.2, max_bin=None,\n",
       "             max_cat_threshold=None, max_cat_to_onehot=None,\n",
       "             max_delta_step=None, max_depth=12, max_leaves=None,\n",
       "             min_child_weight=None, missing=nan, monotone_constraints=None,\n",
       "             multi_strategy=None, n_estimators=1000, n_jobs=None,\n",
       "             num_parallel_tree=None, random_state=1, ...)</pre></div></div></div></div></div></div></div>"
      ],
      "text/plain": [
       "Pipeline(steps=[('ct',\n",
       "                 ColumnTransformer(remainder='passthrough',\n",
       "                                   transformers=[('ohe',\n",
       "                                                  OneHotEncoder(drop='first',\n",
       "                                                                sparse_output=False),\n",
       "                                                  ['batting_team', 'city',\n",
       "                                                   'bowling_team'])])),\n",
       "                ('ss', StandardScaler()),\n",
       "                ('xgbr',\n",
       "                 XGBRegressor(base_score=None, booster=None, callbacks=None,\n",
       "                              colsample_bylevel=None, colsample_bynode=None,\n",
       "                              colsample_bytree=None, device=None,\n",
       "                              early_...\n",
       "                              feature_types=None, gamma=None, grow_policy=None,\n",
       "                              importance_type=None,\n",
       "                              interaction_constraints=None, learning_rate=0.2,\n",
       "                              max_bin=None, max_cat_threshold=None,\n",
       "                              max_cat_to_onehot=None, max_delta_step=None,\n",
       "                              max_depth=12, max_leaves=None,\n",
       "                              min_child_weight=None, missing=nan,\n",
       "                              monotone_constraints=None, multi_strategy=None,\n",
       "                              n_estimators=1000, n_jobs=None,\n",
       "                              num_parallel_tree=None, random_state=1, ...))])"
      ]
     },
     "execution_count": 268,
     "metadata": {},
     "output_type": "execute_result"
    }
   ],
   "source": [
    "pipe_xgbr.fit(X_train, y_train)"
   ]
  },
  {
   "cell_type": "code",
   "execution_count": 269,
   "id": "8ebf16b9",
   "metadata": {},
   "outputs": [
    {
     "name": "stdout",
     "output_type": "stream",
     "text": [
      "Test score:  0.9724291034189558\n",
      "Train score:  0.999956167784394\n"
     ]
    }
   ],
   "source": [
    "print('Test score: ', r2_score(y_test, pipe_xgbr.predict(X_test)))\n",
    "print('Train score: ', r2_score(y_train, pipe_xgbr.predict(X_train)))"
   ]
  },
  {
   "cell_type": "code",
   "execution_count": null,
   "id": "ffb0cdc5",
   "metadata": {},
   "outputs": [],
   "source": []
  }
 ],
 "metadata": {
  "kernelspec": {
   "display_name": "Python 3 (ipykernel)",
   "language": "python",
   "name": "python3"
  },
  "language_info": {
   "codemirror_mode": {
    "name": "ipython",
    "version": 3
   },
   "file_extension": ".py",
   "mimetype": "text/x-python",
   "name": "python",
   "nbconvert_exporter": "python",
   "pygments_lexer": "ipython3",
   "version": "3.11.5"
  }
 },
 "nbformat": 4,
 "nbformat_minor": 5
}
